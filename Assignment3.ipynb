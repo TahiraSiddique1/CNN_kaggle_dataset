{
  "cells": [
    {
      "cell_type": "code",
      "execution_count": 1,
      "metadata": {
        "colab": {
          "base_uri": "https://localhost:8080/"
        },
        "id": "D8IJOhfijpMs",
        "outputId": "31a4c7f8-2673-4455-a1b2-f4eeb5c4005a"
      },
      "outputs": [
        {
          "output_type": "stream",
          "name": "stdout",
          "text": [
            "Archive:  drive/MyDrive/archive.zip\n",
            "replace seg_pred/seg_pred/10004.jpg? [y]es, [n]o, [A]ll, [N]one, [r]ename: y\n",
            "  inflating: seg_pred/seg_pred/10004.jpg  \n",
            "replace seg_pred/seg_pred/10005.jpg? [y]es, [n]o, [A]ll, [N]one, [r]ename: y\n",
            "  inflating: seg_pred/seg_pred/10005.jpg  \n",
            "replace seg_pred/seg_pred/10012.jpg? [y]es, [n]o, [A]ll, [N]one, [r]ename: "
          ]
        }
      ],
      "source": [
        "!unzip drive/MyDrive/archive.zip # unzip the dataset"
      ]
    },
    {
      "cell_type": "code",
      "execution_count": 2,
      "metadata": {
        "id": "tebNFWx8nBGH"
      },
      "outputs": [],
      "source": [
        "import tensorflow as tf  # defining and training neural networks.\n",
        "from timeit import default_timer as timer # measure the time taken for certain operations\n",
        "import numpy as np # numerical operations\n",
        "\n",
        "import pandas as pd # data manipulation and analysis library\n",
        "\n",
        "from tensorflow import keras # Keras neural networks API, simplifying model construction.\n",
        "\n",
        "from keras.applications import ResNet50\n",
        "from keras.preprocessing import image\n",
        "#  pre-trained models like ResNet50 and image-related operations.\n",
        "\n",
        "from keras.preprocessing.image import ImageDataGenerator\n",
        "#  data augmentation, artificially increasing the size of the training dataset.\n",
        "\n",
        "from keras.models import Sequential\n",
        "from keras.callbacks import ReduceLROnPlateau, EarlyStopping\n",
        "#building models and implementing training callbacks.\n",
        "\n",
        "from keras.layers import Conv2D, MaxPooling2D, Activation, Flatten, Dense, Dropout, BatchNormalization, LSTM, ConvLSTM2D\n",
        "# constructing the architecture of the neural network.\n",
        "\n",
        "from keras.losses import categorical_crossentropy\n",
        "# Categorical crossentropy is a common loss function for multi-class classification problems.\n"
      ]
    },
    {
      "cell_type": "code",
      "execution_count": 3,
      "metadata": {
        "id": "s0VGuZgytkRg"
      },
      "outputs": [],
      "source": [
        "# paths of data\n",
        "train_path = 'seg_train/seg_train'\n",
        "test_path = 'seg_test/seg_test'\n",
        "pred_path = 'seg_pred/seg_pred'"
      ]
    },
    {
      "cell_type": "code",
      "execution_count": 4,
      "metadata": {
        "id": "twBqMylYum86"
      },
      "outputs": [],
      "source": [
        "# Data augmentation for training\n",
        "train_datagen = ImageDataGenerator(\n",
        "    rescale=1.0/255,                # Rescale pixel values to [0, 1]\n",
        "    rotation_range=20,              # Random rotation within 20 degrees\n",
        "    width_shift_range=0.2,          # Random horizontal shift by 20% of image width\n",
        "    height_shift_range=0.2,         # Random vertical shift by 20% of image height\n",
        "    horizontal_flip=True,           # Random horizontal flipping\n",
        "    fill_mode='nearest'             # Fill mode for new pixels after shifts/rotations\n",
        ")"
      ]
    },
    {
      "cell_type": "code",
      "execution_count": 5,
      "metadata": {
        "id": "6Jw2134nu2Sp"
      },
      "outputs": [],
      "source": [
        "size_images = 150\n",
        "batch_size = 64"
      ]
    },
    {
      "cell_type": "code",
      "execution_count": 6,
      "metadata": {
        "colab": {
          "base_uri": "https://localhost:8080/"
        },
        "id": "bGm2b6huvQ_H",
        "outputId": "e9d59dc3-1356-4f76-a321-faed9cd47609"
      },
      "outputs": [
        {
          "output_type": "stream",
          "name": "stdout",
          "text": [
            "Found 14034 images belonging to 6 classes.\n"
          ]
        }
      ],
      "source": [
        "train_generator = train_datagen.flow_from_directory(\n",
        "    train_path,                     # Path to the training data\n",
        "    target_size=(size_images, size_images),  # Resize images to this size\n",
        "    batch_size=batch_size,           # Number of images in each batch\n",
        "    seed=32,                         # Optional: Set a random seed for shuffling\n",
        "    shuffle=True,                    # Shuffle the data during training\n",
        "    class_mode='categorical'        # Mode for class labels (categorical for one-hot encoding)\n",
        ")"
      ]
    },
    {
      "cell_type": "code",
      "execution_count": 7,
      "metadata": {
        "colab": {
          "base_uri": "https://localhost:8080/"
        },
        "id": "bbU-QcdSwp94",
        "outputId": "d6741e3b-472c-4f27-f37c-5d4e2f7823ca"
      },
      "outputs": [
        {
          "output_type": "stream",
          "name": "stdout",
          "text": [
            "Found 3000 images belonging to 6 classes.\n"
          ]
        }
      ],
      "source": [
        "test_datagen = ImageDataGenerator(rescale=1./255)\n",
        "\n",
        "\n",
        "validation_generator = test_datagen.flow_from_directory(\n",
        "        test_path,\n",
        "        target_size=(size_images,size_images),\n",
        "        batch_size=batch_size,\n",
        "        class_mode='categorical',\n",
        "        shuffle=True)"
      ]
    },
    {
      "cell_type": "code",
      "execution_count": 8,
      "metadata": {
        "colab": {
          "base_uri": "https://localhost:8080/"
        },
        "id": "0zMK6NJglTlO",
        "outputId": "69bf4196-1cbe-4835-fdcc-976b3e8e81e0"
      },
      "outputs": [
        {
          "output_type": "stream",
          "name": "stdout",
          "text": [
            "Label in in train and validation datasets\n",
            "\n",
            "0 : buildings\n",
            "1 : forest\n",
            "2 : glacier\n",
            "3 : mountain\n",
            "4 : sea\n",
            "5 : street\n"
          ]
        }
      ],
      "source": [
        "labels = {value: key for key, value in train_generator.class_indices.items()}\n",
        "\n",
        "print(\"Label in in train and validation datasets\\n\")\n",
        "\n",
        "for key, value in labels.items():\n",
        "    print(f'{key} : {value}')"
      ]
    },
    {
      "cell_type": "code",
      "execution_count": 9,
      "metadata": {
        "id": "NpbrFdXVmcYz"
      },
      "outputs": [],
      "source": [
        "\n",
        "from keras.models import Sequential\n",
        "model = Sequential()"
      ]
    },
    {
      "cell_type": "code",
      "execution_count": 10,
      "metadata": {
        "id": "KnLyfYb6mi0S"
      },
      "outputs": [],
      "source": [
        "#convolution matrix 1\n",
        "model.add(Conv2D(32, (3, 3), padding='same', activation='relu', input_shape=(150, 150, 3)))# kernel of 3*3\n",
        "model.add(BatchNormalization())# improve the training stability and convergence speed\n",
        "model.add(MaxPooling2D(pool_size=(2,2)))#pooling layer\n",
        "model.add(Dropout(0.2))\n",
        "#convolution matrix 2\n",
        "model.add(Conv2D(64, (3, 3), padding='same', activation='relu'))\n",
        "model.add(BatchNormalization())\n",
        "model.add(MaxPooling2D(pool_size=(2,2)))\n",
        "model.add(Dropout(0.2))\n",
        "#convolution matrix 3\n",
        "model.add(Conv2D(128, (3, 3), padding='same', activation='relu'))\n",
        "model.add(BatchNormalization())\n",
        "model.add(MaxPooling2D(pool_size=(2,2)))\n",
        "model.add(Dropout(0.2))# prevention from overfitting\n",
        "model.add(Flatten())\n",
        "\n",
        "model.add(Dense(128, activation='relu'))\n",
        "model.add(BatchNormalization())\n",
        "model.add(Dropout(0.2))\n",
        "model.add(Dense(6, activation='softmax'))# softmax:classify inputs into more than two classes."
      ]
    },
    {
      "cell_type": "code",
      "execution_count": 11,
      "metadata": {
        "colab": {
          "base_uri": "https://localhost:8080/"
        },
        "id": "515XT152myiC",
        "outputId": "a59a4099-1ee5-4cde-eb87-bc83a748245b"
      },
      "outputs": [
        {
          "output_type": "stream",
          "name": "stdout",
          "text": [
            "Model: \"sequential\"\n",
            "_________________________________________________________________\n",
            " Layer (type)                Output Shape              Param #   \n",
            "=================================================================\n",
            " conv2d (Conv2D)             (None, 150, 150, 32)      896       \n",
            "                                                                 \n",
            " batch_normalization (Batch  (None, 150, 150, 32)      128       \n",
            " Normalization)                                                  \n",
            "                                                                 \n",
            " max_pooling2d (MaxPooling2  (None, 75, 75, 32)        0         \n",
            " D)                                                              \n",
            "                                                                 \n",
            " dropout (Dropout)           (None, 75, 75, 32)        0         \n",
            "                                                                 \n",
            " conv2d_1 (Conv2D)           (None, 75, 75, 64)        18496     \n",
            "                                                                 \n",
            " batch_normalization_1 (Bat  (None, 75, 75, 64)        256       \n",
            " chNormalization)                                                \n",
            "                                                                 \n",
            " max_pooling2d_1 (MaxPoolin  (None, 37, 37, 64)        0         \n",
            " g2D)                                                            \n",
            "                                                                 \n",
            " dropout_1 (Dropout)         (None, 37, 37, 64)        0         \n",
            "                                                                 \n",
            " conv2d_2 (Conv2D)           (None, 37, 37, 128)       73856     \n",
            "                                                                 \n",
            " batch_normalization_2 (Bat  (None, 37, 37, 128)       512       \n",
            " chNormalization)                                                \n",
            "                                                                 \n",
            " max_pooling2d_2 (MaxPoolin  (None, 18, 18, 128)       0         \n",
            " g2D)                                                            \n",
            "                                                                 \n",
            " dropout_2 (Dropout)         (None, 18, 18, 128)       0         \n",
            "                                                                 \n",
            " flatten (Flatten)           (None, 41472)             0         \n",
            "                                                                 \n",
            " dense (Dense)               (None, 128)               5308544   \n",
            "                                                                 \n",
            " batch_normalization_3 (Bat  (None, 128)               512       \n",
            " chNormalization)                                                \n",
            "                                                                 \n",
            " dropout_3 (Dropout)         (None, 128)               0         \n",
            "                                                                 \n",
            " dense_1 (Dense)             (None, 6)                 774       \n",
            "                                                                 \n",
            "=================================================================\n",
            "Total params: 5403974 (20.61 MB)\n",
            "Trainable params: 5403270 (20.61 MB)\n",
            "Non-trainable params: 704 (2.75 KB)\n",
            "_________________________________________________________________\n"
          ]
        }
      ],
      "source": [
        "model.summary()"
      ]
    },
    {
      "cell_type": "code",
      "execution_count": 12,
      "metadata": {
        "id": "Xg0Srad9nJuG"
      },
      "outputs": [],
      "source": [
        "model.compile(optimizer='adam', loss='categorical_crossentropy', metrics=['accuracy'])"
      ]
    },
    {
      "cell_type": "code",
      "execution_count": 13,
      "metadata": {
        "id": "8hxVLQP4nYEn"
      },
      "outputs": [],
      "source": [
        "reduce_lr = ReduceLROnPlateau(monitor='val_loss', factor=0.5, patience = 5, min_lr =1e-6, verbose=1)"
      ]
    },
    {
      "cell_type": "code",
      "execution_count": 14,
      "metadata": {
        "colab": {
          "base_uri": "https://localhost:8080/"
        },
        "id": "WHaWqO0ynbtq",
        "outputId": "ed9fffc2-7955-4ae5-ad7b-6fc8da2f9967"
      },
      "outputs": [
        {
          "output_type": "stream",
          "name": "stdout",
          "text": [
            "Epoch 1/15\n",
            "220/220 [==============================] - 113s 475ms/step - loss: 1.0207 - accuracy: 0.6270 - val_loss: 4.9975 - val_accuracy: 0.2217\n",
            "Epoch 2/15\n",
            "220/220 [==============================] - 101s 460ms/step - loss: 0.7208 - accuracy: 0.7353 - val_loss: 3.6871 - val_accuracy: 0.3547\n",
            "Epoch 3/15\n",
            "220/220 [==============================] - 97s 440ms/step - loss: 0.6227 - accuracy: 0.7709 - val_loss: 1.9727 - val_accuracy: 0.5293\n",
            "Epoch 4/15\n",
            "220/220 [==============================] - 97s 442ms/step - loss: 0.5672 - accuracy: 0.7944 - val_loss: 2.3432 - val_accuracy: 0.5397\n",
            "Epoch 5/15\n",
            "220/220 [==============================] - 99s 452ms/step - loss: 0.5500 - accuracy: 0.8006 - val_loss: 1.0783 - val_accuracy: 0.7043\n",
            "Epoch 6/15\n",
            "220/220 [==============================] - 99s 451ms/step - loss: 0.5020 - accuracy: 0.8139 - val_loss: 1.1577 - val_accuracy: 0.6843\n",
            "Epoch 7/15\n",
            "220/220 [==============================] - 101s 458ms/step - loss: 0.4862 - accuracy: 0.8250 - val_loss: 0.8022 - val_accuracy: 0.7633\n",
            "Epoch 8/15\n",
            "220/220 [==============================] - 97s 439ms/step - loss: 0.4647 - accuracy: 0.8301 - val_loss: 1.2793 - val_accuracy: 0.6927\n",
            "Epoch 9/15\n",
            "220/220 [==============================] - 98s 444ms/step - loss: 0.4508 - accuracy: 0.8383 - val_loss: 0.4276 - val_accuracy: 0.8553\n",
            "Epoch 10/15\n",
            "220/220 [==============================] - 96s 437ms/step - loss: 0.4403 - accuracy: 0.8422 - val_loss: 1.6635 - val_accuracy: 0.5820\n",
            "Epoch 11/15\n",
            "220/220 [==============================] - 98s 445ms/step - loss: 0.4368 - accuracy: 0.8441 - val_loss: 0.5143 - val_accuracy: 0.8283\n",
            "Epoch 12/15\n",
            "220/220 [==============================] - 99s 450ms/step - loss: 0.4157 - accuracy: 0.8508 - val_loss: 0.6426 - val_accuracy: 0.8000\n",
            "Epoch 13/15\n",
            "220/220 [==============================] - 98s 446ms/step - loss: 0.4068 - accuracy: 0.8539 - val_loss: 0.6783 - val_accuracy: 0.7930\n",
            "Epoch 14/15\n",
            "220/220 [==============================] - 96s 435ms/step - loss: 0.3963 - accuracy: 0.8559 - val_loss: 0.6597 - val_accuracy: 0.8050\n",
            "Epoch 15/15\n",
            "220/220 [==============================] - 98s 447ms/step - loss: 0.3901 - accuracy: 0.8586 - val_loss: 0.4235 - val_accuracy: 0.8483\n"
          ]
        }
      ],
      "source": [
        "history = model.fit(train_generator, validation_data = validation_generator, batch_size = 64, epochs= 15, verbose = 1)\n"
      ]
    },
    {
      "cell_type": "code",
      "execution_count": 47,
      "metadata": {
        "id": "GdpBfdaInfZ3",
        "colab": {
          "base_uri": "https://localhost:8080/"
        },
        "outputId": "3f8bfb67-a2ae-4eba-bce6-e1bad89b9257"
      },
      "outputs": [
        {
          "output_type": "stream",
          "name": "stdout",
          "text": [
            "47/47 [==============================] - 3s 66ms/step - loss: 0.0366\n"
          ]
        },
        {
          "output_type": "execute_result",
          "data": {
            "text/plain": [
              "0.03659640625119209"
            ]
          },
          "metadata": {},
          "execution_count": 47
        }
      ],
      "source": [
        "model.evaluate(validation_generator)\n"
      ]
    },
    {
      "cell_type": "code",
      "source": [
        "import os\n",
        "from PIL import Image\n",
        "pred_img_list = [f\"seg_pred/seg_pred/{i}\" for i in os.listdir(\"seg_pred/seg_pred\")]"
      ],
      "metadata": {
        "id": "IdGMZxaPvBVX"
      },
      "execution_count": 34,
      "outputs": []
    },
    {
      "cell_type": "code",
      "source": [
        "import random\n",
        "from random import randint\n",
        "\n",
        "for i in range(3):\n",
        "  num = random.randint(0, len(pred_img_list))\n",
        "  img = Image.open(pred_img_list[num])\n",
        "  display(img.resize((100,100)))\n",
        "  img = img.resize((150, 150))\n",
        "  img_array = np.array(img)\n",
        "  img_array = img_array[np.newaxis, :]\n",
        "  prob = model(img_array)\n",
        "\n",
        "  pred = np.argmax(prob)\n",
        "  print(pred)\n",
        "  print(labels[pred])\n",
        "\n"
      ],
      "metadata": {
        "colab": {
          "base_uri": "https://localhost:8080/",
          "height": 427
        },
        "id": "u1eWz0TBvOmE",
        "outputId": "b2e41302-9302-4f36-ee26-1406ee1fad39"
      },
      "execution_count": 48,
      "outputs": [
        {
          "output_type": "display_data",
          "data": {
            "text/plain": [
              "<PIL.Image.Image image mode=RGB size=100x100>"
            ],
            "image/png": "[encoded data removed]"
          },
          "metadata": {}
        },
        {
          "output_type": "stream",
          "name": "stdout",
          "text": [
            "1\n",
            "forest\n"
          ]
        },
        {
          "output_type": "display_data",
          "data": {
            "text/plain": [
              "<PIL.Image.Image image mode=RGB size=100x100>"
            ],
            "image/png": "[encoded data removed]"
          },
          "metadata": {}
        },
        {
          "output_type": "stream",
          "name": "stdout",
          "text": [
            "2\n",
            "glacier\n"
          ]
        },
        {
          "output_type": "display_data",
          "data": {
            "text/plain": [
              "<PIL.Image.Image image mode=RGB size=100x100>"
            ],
            "image/png": "[encoded data removed]"
          },
          "metadata": {}
        },
        {
          "output_type": "stream",
          "name": "stdout",
          "text": [
            "2\n",
            "glacier\n"
          ]
        }
      ]
    },
    {
      "source": [
        "model.compile(optimizer='adam', loss='mean_squared_error')"
      ],
      "cell_type": "code",
      "metadata": {
        "id": "xfUVC_2dxwEN"
      },
      "execution_count": 42,
      "outputs": []
    },
    {
      "cell_type": "code",
      "source": [
        "import matplotlib.pyplot as plt\n",
        "\n",
        "# Assuming 'history' is a dictionary with keys 'accuracy', 'val_accuracy', 'loss', 'val_loss'\n",
        "# Make sure it's defined and contains the expected data\n",
        "\n",
        "# Plotting training & validation accuracy\n",
        "plt.plot(history.history['accuracy'], label='Training Accuracy')\n",
        "plt.plot(history.history['val_accuracy'], label='Validation Accuracy')\n",
        "plt.title('Model Accuracy')\n",
        "plt.ylabel('Accuracy')\n",
        "plt.xlabel('Epoch')\n",
        "plt.legend()\n",
        "plt.show()\n",
        "\n",
        "# Plotting training & validation loss\n",
        "plt.plot(history.history['loss'], label='Training Loss')\n",
        "plt.plot(history.history['val_loss'], label='Validation Loss')\n",
        "plt.title('Model Loss')\n",
        "plt.ylabel('Loss')\n",
        "plt.xlabel('Epoch')\n",
        "plt.legend()\n",
        "plt.show()\n"
      ],
      "metadata": {
        "colab": {
          "base_uri": "https://localhost:8080/",
          "height": 254
        },
        "id": "Dw9XfQLgtAUB",
        "outputId": "5548eec6-84ba-47f0-f4ec-e75dc36ab9be"
      },
      "execution_count": 26,
      "outputs": [
        {
          "output_type": "error",
          "ename": "KeyError",
          "evalue": "ignored",
          "traceback": [
            "\u001b[0;31m---------------------------------------------------------------------------\u001b[0m",
            "\u001b[0;31mKeyError\u001b[0m                                  Traceback (most recent call last)",
            "\u001b[0;32m<ipython-input-26-dfe64729dc0c>\u001b[0m in \u001b[0;36m<cell line: 7>\u001b[0;34m()\u001b[0m\n\u001b[1;32m      5\u001b[0m \u001b[0;34m\u001b[0m\u001b[0m\n\u001b[1;32m      6\u001b[0m \u001b[0;31m# Plotting training & validation accuracy\u001b[0m\u001b[0;34m\u001b[0m\u001b[0;34m\u001b[0m\u001b[0m\n\u001b[0;32m----> 7\u001b[0;31m \u001b[0mplt\u001b[0m\u001b[0;34m.\u001b[0m\u001b[0mplot\u001b[0m\u001b[0;34m(\u001b[0m\u001b[0mhistory\u001b[0m\u001b[0;34m.\u001b[0m\u001b[0mhistory\u001b[0m\u001b[0;34m[\u001b[0m\u001b[0;34m'accuracy'\u001b[0m\u001b[0;34m]\u001b[0m\u001b[0;34m,\u001b[0m \u001b[0mlabel\u001b[0m\u001b[0;34m=\u001b[0m\u001b[0;34m'Training Accuracy'\u001b[0m\u001b[0;34m)\u001b[0m\u001b[0;34m\u001b[0m\u001b[0;34m\u001b[0m\u001b[0m\n\u001b[0m\u001b[1;32m      8\u001b[0m \u001b[0mplt\u001b[0m\u001b[0;34m.\u001b[0m\u001b[0mplot\u001b[0m\u001b[0;34m(\u001b[0m\u001b[0mhistory\u001b[0m\u001b[0;34m.\u001b[0m\u001b[0mhistory\u001b[0m\u001b[0;34m[\u001b[0m\u001b[0;34m'val_accuracy'\u001b[0m\u001b[0;34m]\u001b[0m\u001b[0;34m,\u001b[0m \u001b[0mlabel\u001b[0m\u001b[0;34m=\u001b[0m\u001b[0;34m'Validation Accuracy'\u001b[0m\u001b[0;34m)\u001b[0m\u001b[0;34m\u001b[0m\u001b[0;34m\u001b[0m\u001b[0m\n\u001b[1;32m      9\u001b[0m \u001b[0mplt\u001b[0m\u001b[0;34m.\u001b[0m\u001b[0mtitle\u001b[0m\u001b[0;34m(\u001b[0m\u001b[0;34m'Model Accuracy'\u001b[0m\u001b[0;34m)\u001b[0m\u001b[0;34m\u001b[0m\u001b[0;34m\u001b[0m\u001b[0m\n",
            "\u001b[0;31mKeyError\u001b[0m: 'accuracy'"
          ]
        }
      ]
    },
    {
      "cell_type": "markdown",
      "source": [],
      "metadata": {
        "id": "PGfzWo4auAiQ"
      }
    },
    {
      "cell_type": "code",
      "source": [],
      "metadata": {
        "id": "4zX39V2QtJJk"
      },
      "execution_count": null,
      "outputs": []
    },
    {
      "cell_type": "code",
      "source": [],
      "metadata": {
        "id": "Ui25DBiGpWJW"
      },
      "execution_count": null,
      "outputs": []
    }
  ],
  "metadata": {
    "colab": {
      "provenance": [],
      "gpuType": "T4"
    },
    "kernelspec": {
      "display_name": "Python 3",
      "name": "python3"
    },
    "language_info": {
      "name": "python"
    },
    "accelerator": "GPU"
  },
  "nbformat": 4,
  "nbformat_minor": 0
}